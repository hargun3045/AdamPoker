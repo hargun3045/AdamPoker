{
 "cells": [
  {
   "cell_type": "code",
   "execution_count": 2,
   "metadata": {},
   "outputs": [
    {
     "data": {
      "text/plain": [
       "'/opt/anaconda3/envs/poker/bin/python'"
      ]
     },
     "execution_count": 2,
     "metadata": {},
     "output_type": "execute_result"
    }
   ],
   "source": [
    "import sys\n",
    "sys.executable"
   ]
  },
  {
   "cell_type": "code",
   "execution_count": 3,
   "metadata": {},
   "outputs": [],
   "source": [
    "import tensorflow as tf"
   ]
  },
  {
   "cell_type": "markdown",
   "metadata": {},
   "source": [
    "# How to use this\n",
    "\n",
    "Run each cell from top to bottom. \n",
    "View README.md for more infos. "
   ]
  },
  {
   "cell_type": "code",
   "execution_count": 3,
   "metadata": {},
   "outputs": [],
   "source": [
    "# Init global infos\n",
    "import tensorflow as tf\n",
    "import numpy as np\n",
    "import pandas as pd\n",
    "\n",
    "from tensorflow.keras.models import Sequential\n",
    "\n",
    "from tensorflow.keras.layers import Dense, Dropout, Activation\n",
    "\n",
    "from tensorflow.keras.optimizers import SGD\n",
    "\n",
    "from tensorflow.keras.utils import to_categorical\n",
    "\n",
    "tf.keras.backend.clear_session()\n"
   ]
  },
  {
   "cell_type": "code",
   "execution_count": 4,
   "metadata": {},
   "outputs": [],
   "source": [
    "pokerdf = pd.read_csv('train.csv',index_col = False)"
   ]
  },
  {
   "cell_type": "code",
   "execution_count": 5,
   "metadata": {},
   "outputs": [],
   "source": [
    "pokercols = []\n",
    "for i in range(1,6):\n",
    "    pokercols.append(['S'+str(i),'C'+str(i),'cC'+str(i)])"
   ]
  },
  {
   "cell_type": "code",
   "execution_count": 6,
   "metadata": {},
   "outputs": [],
   "source": [
    "pokercols = list(np.array(pokercols).flatten())"
   ]
  },
  {
   "cell_type": "code",
   "execution_count": 7,
   "metadata": {},
   "outputs": [],
   "source": [
    "for i in range(1,6):\n",
    "    pokerdf['cC'+str(i)] = pokerdf['C'+str(i)]"
   ]
  },
  {
   "cell_type": "code",
   "execution_count": 8,
   "metadata": {},
   "outputs": [],
   "source": [
    "pokercols = pokercols + ['hand']"
   ]
  },
  {
   "cell_type": "code",
   "execution_count": 9,
   "metadata": {},
   "outputs": [],
   "source": [
    "#adjusted_cols = list(pokercols[:10]) + list(pokercols[11:]) + ['hand']"
   ]
  },
  {
   "cell_type": "code",
   "execution_count": 10,
   "metadata": {},
   "outputs": [],
   "source": [
    "pokerdf = pokerdf[pokercols]"
   ]
  },
  {
   "cell_type": "code",
   "execution_count": 11,
   "metadata": {},
   "outputs": [
    {
     "data": {
      "text/html": [
       "<div>\n",
       "<style scoped>\n",
       "    .dataframe tbody tr th:only-of-type {\n",
       "        vertical-align: middle;\n",
       "    }\n",
       "\n",
       "    .dataframe tbody tr th {\n",
       "        vertical-align: top;\n",
       "    }\n",
       "\n",
       "    .dataframe thead th {\n",
       "        text-align: right;\n",
       "    }\n",
       "</style>\n",
       "<table border=\"1\" class=\"dataframe\">\n",
       "  <thead>\n",
       "    <tr style=\"text-align: right;\">\n",
       "      <th></th>\n",
       "      <th>S1</th>\n",
       "      <th>C1</th>\n",
       "      <th>cC1</th>\n",
       "      <th>S2</th>\n",
       "      <th>C2</th>\n",
       "      <th>cC2</th>\n",
       "      <th>S3</th>\n",
       "      <th>C3</th>\n",
       "      <th>cC3</th>\n",
       "      <th>S4</th>\n",
       "      <th>C4</th>\n",
       "      <th>cC4</th>\n",
       "      <th>S5</th>\n",
       "      <th>C5</th>\n",
       "      <th>cC5</th>\n",
       "      <th>hand</th>\n",
       "    </tr>\n",
       "  </thead>\n",
       "  <tbody>\n",
       "    <tr>\n",
       "      <th>0</th>\n",
       "      <td>4</td>\n",
       "      <td>9</td>\n",
       "      <td>9</td>\n",
       "      <td>2</td>\n",
       "      <td>1</td>\n",
       "      <td>1</td>\n",
       "      <td>2</td>\n",
       "      <td>2</td>\n",
       "      <td>2</td>\n",
       "      <td>4</td>\n",
       "      <td>7</td>\n",
       "      <td>7</td>\n",
       "      <td>2</td>\n",
       "      <td>8</td>\n",
       "      <td>8</td>\n",
       "      <td>0</td>\n",
       "    </tr>\n",
       "    <tr>\n",
       "      <th>1</th>\n",
       "      <td>1</td>\n",
       "      <td>4</td>\n",
       "      <td>4</td>\n",
       "      <td>3</td>\n",
       "      <td>6</td>\n",
       "      <td>6</td>\n",
       "      <td>1</td>\n",
       "      <td>12</td>\n",
       "      <td>12</td>\n",
       "      <td>3</td>\n",
       "      <td>11</td>\n",
       "      <td>11</td>\n",
       "      <td>2</td>\n",
       "      <td>7</td>\n",
       "      <td>7</td>\n",
       "      <td>0</td>\n",
       "    </tr>\n",
       "    <tr>\n",
       "      <th>2</th>\n",
       "      <td>1</td>\n",
       "      <td>11</td>\n",
       "      <td>11</td>\n",
       "      <td>4</td>\n",
       "      <td>1</td>\n",
       "      <td>1</td>\n",
       "      <td>3</td>\n",
       "      <td>7</td>\n",
       "      <td>7</td>\n",
       "      <td>4</td>\n",
       "      <td>11</td>\n",
       "      <td>11</td>\n",
       "      <td>2</td>\n",
       "      <td>1</td>\n",
       "      <td>1</td>\n",
       "      <td>2</td>\n",
       "    </tr>\n",
       "    <tr>\n",
       "      <th>3</th>\n",
       "      <td>2</td>\n",
       "      <td>9</td>\n",
       "      <td>9</td>\n",
       "      <td>2</td>\n",
       "      <td>4</td>\n",
       "      <td>4</td>\n",
       "      <td>3</td>\n",
       "      <td>6</td>\n",
       "      <td>6</td>\n",
       "      <td>1</td>\n",
       "      <td>9</td>\n",
       "      <td>9</td>\n",
       "      <td>4</td>\n",
       "      <td>9</td>\n",
       "      <td>9</td>\n",
       "      <td>3</td>\n",
       "    </tr>\n",
       "    <tr>\n",
       "      <th>4</th>\n",
       "      <td>1</td>\n",
       "      <td>8</td>\n",
       "      <td>8</td>\n",
       "      <td>2</td>\n",
       "      <td>4</td>\n",
       "      <td>4</td>\n",
       "      <td>2</td>\n",
       "      <td>11</td>\n",
       "      <td>11</td>\n",
       "      <td>2</td>\n",
       "      <td>2</td>\n",
       "      <td>2</td>\n",
       "      <td>2</td>\n",
       "      <td>1</td>\n",
       "      <td>1</td>\n",
       "      <td>0</td>\n",
       "    </tr>\n",
       "  </tbody>\n",
       "</table>\n",
       "</div>"
      ],
      "text/plain": [
       "   S1  C1  cC1  S2  C2  cC2  S3  C3  cC3  S4  C4  cC4  S5  C5  cC5  hand\n",
       "0   4   9    9   2   1    1   2   2    2   4   7    7   2   8    8     0\n",
       "1   1   4    4   3   6    6   1  12   12   3  11   11   2   7    7     0\n",
       "2   1  11   11   4   1    1   3   7    7   4  11   11   2   1    1     2\n",
       "3   2   9    9   2   4    4   3   6    6   1   9    9   4   9    9     3\n",
       "4   1   8    8   2   4    4   2  11   11   2   2    2   2   1    1     0"
      ]
     },
     "execution_count": 11,
     "metadata": {},
     "output_type": "execute_result"
    }
   ],
   "source": [
    "pokerdf.head()"
   ]
  },
  {
   "cell_type": "code",
   "execution_count": 9,
   "metadata": {},
   "outputs": [],
   "source": [
    "#Defining a new input for my Adam Poker application\n",
    "inputs = ( \n",
    "    (\"S1\", ('1','2','3','4')),\n",
    "    (\"C1\", ('1','2','3','4','5','6','7','8','9','10','11','12','13')),\n",
    "    (\"cC1\", (\"continuous\",)), \n",
    "    (\"S2\", ('1','2','3','4')),\n",
    "    (\"C2\", ('1','2','3','4','5','6','7','8','9','10','11','12','13')),\n",
    "    (\"cC2\", (\"continuous\",)), \n",
    "    (\"S3\", ('1','2','3','4')),\n",
    "   (\"C3\", ('1','2','3','4','5','6','7','8','9','10','11','12','13')),\n",
    "    (\"cC3\", (\"continuous\",)), \n",
    "    (\"S4\", ('1','2','3','4')),\n",
    "   (\"C4\", ('1','2','3','4','5','6','7','8','9','10','11','12','13')), \n",
    "    (\"cC4\", (\"continuous\",)), \n",
    "    (\"S5\", ('1','2','3','4')),\n",
    "   (\"C5\", ('1','2','3','4','5','6','7','8','9','10','11','12','13')),\n",
    "    (\"cC5\", (\"continuous\",)), \n",
    ")"
   ]
  },
  {
   "cell_type": "code",
   "execution_count": 10,
   "metadata": {
    "jupyter": {
     "outputs_hidden": false
    }
   },
   "outputs": [
    {
     "name": "stdout",
     "output_type": "stream",
     "text": [
      "input_shape: [4, 13, 1, 4, 13, 1, 4, 1, 4, 1, 4, 1]\n",
      "input_dim: 51\n"
     ]
    }
   ],
   "source": [
    "input_shape = []\n",
    "for i in inputs:\n",
    "    count = len(i[1 ])\n",
    "    input_shape.append(count)\n",
    "input_dim = sum(input_shape)\n",
    "print(\"input_shape:\", input_shape)\n",
    "print(\"input_dim:\", input_dim)"
   ]
  },
  {
   "cell_type": "code",
   "execution_count": 11,
   "metadata": {
    "jupyter": {
     "outputs_hidden": false
    }
   },
   "outputs": [
    {
     "name": "stdout",
     "output_type": "stream",
     "text": [
      "output_dim: 10\n",
      "\n"
     ]
    }
   ],
   "source": [
    "outputs = tuple(range(0,10))  # (\">50K\", \"<=50K\")\n",
    "output_dim = len(outputs)\n",
    "print(\"output_dim:\", output_dim)\n",
    "print()"
   ]
  },
  {
   "cell_type": "code",
   "execution_count": 12,
   "metadata": {},
   "outputs": [],
   "source": [
    "# Helpful function 2    \n",
    "    \n",
    "def find_means_for_continuous_types(X):\n",
    "    means = []\n",
    "    for col in range(len(X[0])):\n",
    "        summ = 0\n",
    "        count = 0.000000000000000000001\n",
    "        for value in X[:, col]:\n",
    "            if isinstance(value,int): \n",
    "                summ += value\n",
    "                count +=1\n",
    "        means.append(summ/count)\n",
    "    return means"
   ]
  },
  {
   "cell_type": "markdown",
   "metadata": {},
   "source": [
    "## Changing dtype to float"
   ]
  },
  {
   "cell_type": "code",
   "execution_count": 13,
   "metadata": {},
   "outputs": [],
   "source": [
    "pokerdf[['C1','C2','C3','C4','C5']] = pokerdf[['C1','C2','C3','C4','C5']].astype('str')\n",
    "pokerdf[['S1','S2','S3','S4','S5']] = pokerdf[['S1','S2','S3','S4','S5']].astype('str')"
   ]
  },
  {
   "cell_type": "code",
   "execution_count": 14,
   "metadata": {},
   "outputs": [],
   "source": [
    "hartrain = pokerdf.drop(['C3','C4','C5'],axis=1).values"
   ]
  },
  {
   "cell_type": "code",
   "execution_count": 15,
   "metadata": {},
   "outputs": [],
   "source": [
    "# Helpful function 3\n",
    "def prepare_data(raw_data, means):\n",
    "    \n",
    "    X = raw_data[:, :-1]\n",
    "    y = raw_data[:, -1:]\n",
    "    \n",
    "    # X:\n",
    "    def flatten_persons_inputs_for_model(person_inputs):\n",
    "        global inputs\n",
    "        global input_shape\n",
    "        global input_dim\n",
    "        global means\n",
    "        float_inputs = []\n",
    "\n",
    "        for i in range(len(input_shape)):\n",
    "            features_of_this_type = input_shape[i]\n",
    "            is_feature_continuous = features_of_this_type == 1\n",
    "\n",
    "            if is_feature_continuous:\n",
    "                mean = means[i]\n",
    "                scale_factor = 1/(2*mean)\n",
    "                float_inputs.append(person_inputs[i]*scale_factor)\n",
    "#                 if isinstance(person_inputs[i],float):\n",
    "#                     scale_factor = 1/(2*mean)  # we prefer inputs mainly scaled from -1 to 1. \n",
    "#                     float_inputs.append(float(person_inputs[i])*scale_factor)\n",
    "#                 else:\n",
    "#                     float_inputs.append(mean)\n",
    "            else:\n",
    "                for j in range(features_of_this_type):\n",
    "                    feature_name = inputs[i][1][j]\n",
    "\n",
    "                    if feature_name == person_inputs[i]:\n",
    "                        float_inputs.append(1.)\n",
    "                    else:\n",
    "                        float_inputs.append(0)\n",
    "        return float_inputs\n",
    "    \n",
    "    new_X = []\n",
    "    for person in range(len(X)):\n",
    "        formatted_X = flatten_persons_inputs_for_model(X[person])\n",
    "        new_X.append(formatted_X)\n",
    "    new_X = np.array(new_X)\n",
    "    \n",
    "    # y:\n",
    "    new_y = to_categorical(y, num_classes = 10)\n",
    "    \n",
    "#     new_y = []\n",
    "#     for i in range(len(y)):\n",
    "#         if y[i] == \">50k\":\n",
    "#             new_y.append((1, 0))\n",
    "#         else:  # y[i] == \"<=50k\":\n",
    "#             new_y.append((0, 1))\n",
    "#     new_y = np.array(new_y)\n",
    "    \n",
    "    return (new_X, new_y)"
   ]
  },
  {
   "cell_type": "markdown",
   "metadata": {},
   "source": [
    "## Finding means for poker data below"
   ]
  },
  {
   "cell_type": "code",
   "execution_count": 16,
   "metadata": {},
   "outputs": [],
   "source": [
    "# hartrain = pokerdf.values (ignore for now)"
   ]
  },
  {
   "cell_type": "code",
   "execution_count": 17,
   "metadata": {
    "jupyter": {
     "outputs_hidden": false
    }
   },
   "outputs": [
    {
     "name": "stdout",
     "output_type": "stream",
     "text": [
      "Mean values for data types (if continuous): [0.0, 0.0, 6.995241903238704, 0.0, 0.0, 7.014194322271091, 0.0, 7.014154338264694, 0.0, 6.9424630147940825, 0.0, 6.962734906037585]\n"
     ]
    }
   ],
   "source": [
    "means = find_means_for_continuous_types(hartrain[:,:-1])\n",
    "print(\"Mean values for data types (if continuous):\", means)"
   ]
  },
  {
   "cell_type": "code",
   "execution_count": 19,
   "metadata": {
    "jupyter": {
     "outputs_hidden": false
    }
   },
   "outputs": [],
   "source": [
    "X_train, y_train = prepare_data(hartrain, means)"
   ]
  },
  {
   "cell_type": "code",
   "execution_count": 20,
   "metadata": {
    "jupyter": {
     "outputs_hidden": false
    }
   },
   "outputs": [
    {
     "name": "stdout",
     "output_type": "stream",
     "text": [
      "Training data format example:\n",
      "[1.         0.         0.         0.         0.         0.\n",
      " 0.         0.         0.         0.         0.         1.\n",
      " 0.         0.         0.         0.         0.         0.57181725\n",
      " 0.         1.         0.         0.         0.         0.\n",
      " 0.         1.         0.         0.         0.         0.\n",
      " 0.         0.         0.         0.         0.         0.2851361\n",
      " 0.         1.         0.         0.         0.78412874 0.\n",
      " 1.         0.         0.         0.1440411  0.         1.\n",
      " 0.         0.         0.07181086] 51\n"
     ]
    }
   ],
   "source": [
    "# Explanation on data format\n",
    "print(\"Training data format example:\")\n",
    "print(X_train[4], len(X_train[4]))  # 4 is a random person, from cuba."
   ]
  },
  {
   "cell_type": "code",
   "execution_count": 21,
   "metadata": {
    "jupyter": {
     "outputs_hidden": false
    }
   },
   "outputs": [],
   "source": [
    "# Init model\n",
    "\n",
    "mid_dim = 100\n",
    "\n",
    "# sec_dim = 1000\n",
    "\n",
    "model = Sequential()\n",
    "\n",
    "model.add(Dense(mid_dim, activation='relu'))\n",
    "# model.add(Dense(sec_dim, activation='relu'))\n",
    "model.add(Dense(output_dim, activation='softmax'))"
   ]
  },
  {
   "cell_type": "code",
   "execution_count": 22,
   "metadata": {
    "jupyter": {
     "outputs_hidden": false
    }
   },
   "outputs": [],
   "source": [
    "model.compile(loss='categorical_crossentropy', optimizer='adam',metrics = ['accuracy'] )\n",
    "\n",
    "#model.summary()"
   ]
  },
  {
   "cell_type": "code",
   "execution_count": 23,
   "metadata": {
    "jupyter": {
     "outputs_hidden": false
    },
    "scrolled": true
   },
   "outputs": [
    {
     "name": "stdout",
     "output_type": "stream",
     "text": [
      "(training_datas, dimension): (25010, 51)\n"
     ]
    }
   ],
   "source": [
    "# Train the model\n",
    "\n",
    "print(\"(training_datas, dimension):\", X_train.shape)"
   ]
  },
  {
   "cell_type": "code",
   "execution_count": 24,
   "metadata": {
    "jupyter": {
     "outputs_hidden": false
    },
    "scrolled": true
   },
   "outputs": [
    {
     "name": "stdout",
     "output_type": "stream",
     "text": [
      "Epoch 1/5\n",
      "WARNING:tensorflow:Layer dense is casting an input tensor from dtype float64 to the layer's dtype of float32, which is new behavior in TensorFlow 2.  The layer has dtype float32 because it's dtype defaults to floatx.\n",
      "\n",
      "If you intended to run this layer in float32, you can safely ignore this warning. If in doubt, this warning is likely only an issue if you are porting a TensorFlow 1.X model to TensorFlow 2.\n",
      "\n",
      "To change all layers to have dtype float64 by default, call `tf.keras.backend.set_floatx('float64')`. To change just this layer, pass dtype='float64' to the layer constructor. If you are the author of this layer, you can disable autocasting by passing autocast=False to the base Layer constructor.\n",
      "\n",
      "313/313 [==============================] - 1s 3ms/step - loss: 1.0808 - accuracy: 0.4760 - val_loss: 0.9890 - val_accuracy: 0.5004\n",
      "Epoch 2/5\n",
      "313/313 [==============================] - 1s 3ms/step - loss: 0.9868 - accuracy: 0.4994 - val_loss: 0.9876 - val_accuracy: 0.5144\n",
      "Epoch 3/5\n",
      "313/313 [==============================] - 1s 3ms/step - loss: 0.9800 - accuracy: 0.5080 - val_loss: 0.9861 - val_accuracy: 0.5046\n",
      "Epoch 4/5\n",
      "313/313 [==============================] - 1s 3ms/step - loss: 0.9742 - accuracy: 0.5172 - val_loss: 0.9880 - val_accuracy: 0.4942\n",
      "Epoch 5/5\n",
      "313/313 [==============================] - 1s 3ms/step - loss: 0.9666 - accuracy: 0.5296 - val_loss: 0.9839 - val_accuracy: 0.5056\n"
     ]
    },
    {
     "data": {
      "text/plain": [
       "<tensorflow.python.keras.callbacks.History at 0x7f3a8c233650>"
      ]
     },
     "execution_count": 24,
     "metadata": {},
     "output_type": "execute_result"
    }
   ],
   "source": [
    "# model.fit(new_X_train, y_train, nb_epoch=3, batch_size=16, show_accuracy=True, verbose=2)\n",
    "model.fit(X_train, y_train, epochs=5, batch_size=64, validation_split=0.2, verbose=1)"
   ]
  },
  {
   "cell_type": "markdown",
   "metadata": {},
   "source": [
    "## New stuff here"
   ]
  },
  {
   "cell_type": "code",
   "execution_count": 25,
   "metadata": {},
   "outputs": [],
   "source": [
    "from tensorflow.keras.losses import CategoricalCrossentropy\n",
    "from tensorflow.keras.optimizers import Adam"
   ]
  },
  {
   "cell_type": "code",
   "execution_count": 26,
   "metadata": {},
   "outputs": [],
   "source": [
    "from tensorflow.keras.callbacks import LearningRateScheduler\n",
    "\n",
    "# This is a sample of a scheduler I used in the past\n",
    "def lr_scheduler(epoch, lr):\n",
    "    decay_rate = 0.85\n",
    "    decay_step = 1\n",
    "    if epoch % decay_step == 0 and epoch:\n",
    "        return lr * pow(decay_rate, np.floor(epoch / decay_step))\n",
    "    return lr"
   ]
  },
  {
   "cell_type": "code",
   "execution_count": 27,
   "metadata": {},
   "outputs": [],
   "source": [
    "callbacks = [LearningRateScheduler(lr_scheduler, verbose=1)]"
   ]
  },
  {
   "cell_type": "code",
   "execution_count": 39,
   "metadata": {},
   "outputs": [],
   "source": [
    "loss = CategoricalCrossentropy(label_smoothing=0.1)"
   ]
  },
  {
   "cell_type": "code",
   "execution_count": 40,
   "metadata": {},
   "outputs": [],
   "source": [
    "optim = Adam(learning_rate=0.005)"
   ]
  },
  {
   "cell_type": "code",
   "execution_count": 30,
   "metadata": {},
   "outputs": [],
   "source": [
    "MEMORY_LIMIT = 1024\n",
    "gpus = tf.config.experimental.list_physical_devices('GPU')"
   ]
  },
  {
   "cell_type": "code",
   "execution_count": 31,
   "metadata": {},
   "outputs": [
    {
     "name": "stdout",
     "output_type": "stream",
     "text": [
      "Virtual devices cannot be modified after being initialized\n"
     ]
    }
   ],
   "source": [
    "if gpus:\n",
    "    try:\n",
    "        tf.config.experimental.set_virtual_device_configuration(gpus[0], [tf.config.experimental.VirtualDeviceConfiguration(memory_limit=MEMORY_LIMIT)])\n",
    "    except RuntimeError as e:\n",
    "        print(e)"
   ]
  },
  {
   "cell_type": "code",
   "execution_count": 32,
   "metadata": {},
   "outputs": [
    {
     "data": {
      "text/plain": [
       "51"
      ]
     },
     "execution_count": 32,
     "metadata": {},
     "output_type": "execute_result"
    }
   ],
   "source": [
    "input_dim"
   ]
  },
  {
   "cell_type": "code",
   "execution_count": 43,
   "metadata": {},
   "outputs": [
    {
     "name": "stdout",
     "output_type": "stream",
     "text": [
      "Model: \"sequential_4\"\n",
      "_________________________________________________________________\n",
      "Layer (type)                 Output Shape              Param #   \n",
      "=================================================================\n",
      "dense_14 (Dense)             (None, 200)               10400     \n",
      "_________________________________________________________________\n",
      "dropout_9 (Dropout)          (None, 200)               0         \n",
      "_________________________________________________________________\n",
      "dense_15 (Dense)             (None, 100)               20100     \n",
      "_________________________________________________________________\n",
      "dropout_10 (Dropout)         (None, 100)               0         \n",
      "_________________________________________________________________\n",
      "dense_16 (Dense)             (None, 100)               10100     \n",
      "_________________________________________________________________\n",
      "dropout_11 (Dropout)         (None, 100)               0         \n",
      "_________________________________________________________________\n",
      "dense_17 (Dense)             (None, 10)                1010      \n",
      "=================================================================\n",
      "Total params: 41,610\n",
      "Trainable params: 41,610\n",
      "Non-trainable params: 0\n",
      "_________________________________________________________________\n"
     ]
    }
   ],
   "source": [
    "mid_dim = 200\n",
    "\n",
    "sec_dim = 100\n",
    "\n",
    "third_dim = 100\n",
    "\n",
    "model = Sequential()\n",
    "\n",
    "model.add(Dense(mid_dim, input_dim=input_dim, activation='relu'))\n",
    "model.add(Dropout(0.1))\n",
    "model.add(Dense(sec_dim, activation='relu'))\n",
    "model.add(Dropout(0.1))\n",
    "model.add(Dense(third_dim, activation='relu'))\n",
    "model.add(Dropout(0.2))\n",
    "model.add(Dense(output_dim, activation='softmax'))\n",
    "\n",
    "model.compile(loss=loss, optimizer='Adam',metrics = ['accuracy'])\n",
    "\n",
    "model.summary()"
   ]
  },
  {
   "cell_type": "code",
   "execution_count": 44,
   "metadata": {},
   "outputs": [
    {
     "name": "stdout",
     "output_type": "stream",
     "text": [
      "Epoch 1/20\n",
      "157/157 [==============================] - 1s 4ms/step - loss: 1.3564 - accuracy: 0.4745 - val_loss: 1.2826 - val_accuracy: 0.5014\n",
      "Epoch 2/20\n",
      "157/157 [==============================] - 1s 3ms/step - loss: 1.2980 - accuracy: 0.4911 - val_loss: 1.2797 - val_accuracy: 0.5052\n",
      "Epoch 3/20\n",
      "157/157 [==============================] - 1s 4ms/step - loss: 1.2904 - accuracy: 0.4983 - val_loss: 1.2782 - val_accuracy: 0.5124\n",
      "Epoch 4/20\n",
      "157/157 [==============================] - 1s 3ms/step - loss: 1.2816 - accuracy: 0.5089 - val_loss: 1.2726 - val_accuracy: 0.5222\n",
      "Epoch 5/20\n",
      "157/157 [==============================] - 1s 3ms/step - loss: 1.2690 - accuracy: 0.5388 - val_loss: 1.2660 - val_accuracy: 0.5396\n",
      "Epoch 6/20\n",
      "157/157 [==============================] - 1s 4ms/step - loss: 1.2547 - accuracy: 0.5562 - val_loss: 1.2601 - val_accuracy: 0.5478\n",
      "Epoch 7/20\n",
      "157/157 [==============================] - 1s 4ms/step - loss: 1.2405 - accuracy: 0.5721 - val_loss: 1.2533 - val_accuracy: 0.5540\n",
      "Epoch 8/20\n",
      "157/157 [==============================] - 1s 3ms/step - loss: 1.2277 - accuracy: 0.5860 - val_loss: 1.2511 - val_accuracy: 0.5524\n",
      "Epoch 9/20\n",
      "157/157 [==============================] - 1s 3ms/step - loss: 1.2163 - accuracy: 0.5946 - val_loss: 1.2564 - val_accuracy: 0.5284\n",
      "Epoch 10/20\n",
      "157/157 [==============================] - 1s 4ms/step - loss: 1.2072 - accuracy: 0.6043 - val_loss: 1.2562 - val_accuracy: 0.5274\n",
      "Epoch 11/20\n",
      "157/157 [==============================] - 1s 3ms/step - loss: 1.2002 - accuracy: 0.6095 - val_loss: 1.2526 - val_accuracy: 0.5520\n",
      "Epoch 12/20\n",
      "157/157 [==============================] - 1s 3ms/step - loss: 1.1886 - accuracy: 0.6187 - val_loss: 1.2537 - val_accuracy: 0.5404\n",
      "Epoch 13/20\n",
      "157/157 [==============================] - 1s 3ms/step - loss: 1.1821 - accuracy: 0.6210 - val_loss: 1.2569 - val_accuracy: 0.5382\n",
      "Epoch 14/20\n",
      "157/157 [==============================] - 1s 3ms/step - loss: 1.1737 - accuracy: 0.6305 - val_loss: 1.2642 - val_accuracy: 0.5424\n",
      "Epoch 15/20\n",
      "157/157 [==============================] - 1s 3ms/step - loss: 1.1651 - accuracy: 0.6309 - val_loss: 1.2665 - val_accuracy: 0.5366\n",
      "Epoch 16/20\n",
      "157/157 [==============================] - 1s 4ms/step - loss: 1.1547 - accuracy: 0.6437 - val_loss: 1.2639 - val_accuracy: 0.5490\n",
      "Epoch 17/20\n",
      "157/157 [==============================] - 1s 3ms/step - loss: 1.1466 - accuracy: 0.6476 - val_loss: 1.2758 - val_accuracy: 0.5386\n",
      "Epoch 18/20\n",
      "157/157 [==============================] - 1s 3ms/step - loss: 1.1393 - accuracy: 0.6536 - val_loss: 1.2760 - val_accuracy: 0.5420\n",
      "Epoch 19/20\n",
      "157/157 [==============================] - 1s 4ms/step - loss: 1.1308 - accuracy: 0.6591 - val_loss: 1.2855 - val_accuracy: 0.5256\n",
      "Epoch 20/20\n",
      "157/157 [==============================] - 1s 3ms/step - loss: 1.1200 - accuracy: 0.6695 - val_loss: 1.2845 - val_accuracy: 0.5384\n"
     ]
    },
    {
     "data": {
      "text/plain": [
       "<tensorflow.python.keras.callbacks.History at 0x7f39cc6fcf90>"
      ]
     },
     "execution_count": 44,
     "metadata": {},
     "output_type": "execute_result"
    }
   ],
   "source": [
    "model.fit(X_train, y_train,epochs=20, validation_split=0.2, batch_size=128, verbose=1)"
   ]
  },
  {
   "cell_type": "code",
   "execution_count": null,
   "metadata": {},
   "outputs": [],
   "source": [
    "testdf = pd.read_csv('test.csv',index_col = False); del testdf['id']"
   ]
  },
  {
   "cell_type": "code",
   "execution_count": null,
   "metadata": {},
   "outputs": [],
   "source": [
    "testdf[['C1','C2','C3','C4','C5']] = testdf[['C1','C2','C3','C4','C5']].astype('float64')\n",
    "testdf[['S1','S2','S3','S4','S5']] = testdf[['S1','S2','S3','S4','S5']].astype('str')"
   ]
  },
  {
   "cell_type": "code",
   "execution_count": null,
   "metadata": {},
   "outputs": [],
   "source": [
    "hartest = testdf.values"
   ]
  },
  {
   "cell_type": "code",
   "execution_count": null,
   "metadata": {},
   "outputs": [],
   "source": [
    "testdf['ycol'] = 0"
   ]
  },
  {
   "cell_type": "code",
   "execution_count": null,
   "metadata": {},
   "outputs": [],
   "source": [
    "X_test,_ = prepare_data(hartest,means)"
   ]
  },
  {
   "cell_type": "code",
   "execution_count": null,
   "metadata": {},
   "outputs": [],
   "source": [
    "X_test[0]"
   ]
  },
  {
   "cell_type": "code",
   "execution_count": null,
   "metadata": {},
   "outputs": [],
   "source": [
    "hands = model.predict_classes(X_test)"
   ]
  },
  {
   "cell_type": "code",
   "execution_count": null,
   "metadata": {},
   "outputs": [],
   "source": [
    "hands = pd.Series(hands)"
   ]
  },
  {
   "cell_type": "code",
   "execution_count": null,
   "metadata": {},
   "outputs": [],
   "source": [
    "hands.value_counts()"
   ]
  },
  {
   "cell_type": "code",
   "execution_count": null,
   "metadata": {},
   "outputs": [],
   "source": [
    "submission = pd.read_csv('sampleSubmission.csv', index_col = False)"
   ]
  },
  {
   "cell_type": "code",
   "execution_count": null,
   "metadata": {},
   "outputs": [],
   "source": [
    "submission.hand = hands"
   ]
  },
  {
   "cell_type": "code",
   "execution_count": null,
   "metadata": {},
   "outputs": [],
   "source": [
    "submission.to_csv('baselineMLP.csv',index=False)"
   ]
  },
  {
   "cell_type": "code",
   "execution_count": null,
   "metadata": {},
   "outputs": [],
   "source": []
  },
  {
   "cell_type": "code",
   "execution_count": null,
   "metadata": {},
   "outputs": [],
   "source": []
  }
 ],
 "metadata": {
  "kernelspec": {
   "display_name": "poker",
   "language": "python",
   "name": "poker"
  },
  "language_info": {
   "codemirror_mode": {
    "name": "ipython",
    "version": 3
   },
   "file_extension": ".py",
   "mimetype": "text/x-python",
   "name": "python",
   "nbconvert_exporter": "python",
   "pygments_lexer": "ipython3",
   "version": "3.7.4"
  }
 },
 "nbformat": 4,
 "nbformat_minor": 4
}
